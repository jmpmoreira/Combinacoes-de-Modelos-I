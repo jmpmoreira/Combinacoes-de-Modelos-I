{
 "cells": [
  {
   "cell_type": "markdown",
   "id": "51aebeeb",
   "metadata": {},
   "source": [
    "  **Módulo 23 - Tarefa 01** \n",
    "  \n",
    "- Monte um passo a passo para o Bagging\n",
    "-  Explique com suas palavras o Bagging"
   ]
  },
  {
   "cell_type": "markdown",
   "id": "3b4411a6",
   "metadata": {},
   "source": [
    "**Bagging**\n",
    "\n",
    "O Bagging, ou Bootstrap Aggregation, é uma técnica utilizada em machine learning para melhorar a precisão e a robustez dos modelos de previsão. Nesse método, são criados múltiplos classificadores, como árvores de decisão, que são treinados em subconjuntos aleatórios (com reposição) do conjunto de dados original.\n",
    "\n",
    "A principal ideia do Bagging é criar diversidade nos modelos, garantindo que cada classificador tenha uma perspectiva diferente do problema, ao ser treinado com amostras distintas do conjunto de dados. Essa diversidade é fundamental para reduzir o viés e a variância do modelo, evitando o overfitting e tornando as previsões mais robustas.\n",
    "\n",
    "É importante destacar que, durante o processo de treinamento, os valores amostrais não são excluídos da análise para gerar a predição final. Cada modelo de base é treinado com uma fração dos dados originais e, na etapa de previsão, todos os classificadores contribuem igualmente para a decisão final, por meio de um processo de votação ou média de suas previsões.\n",
    "\n",
    "Ao combinar as previsões dos modelos de base, o Bagging produz uma previsão mais confiável e menos suscetível a erros individuais dos classificadores. Essa abordagem é amplamente utilizada em diversas tarefas de aprendizado de máquina, contribuindo para a melhoria do desempenho e da generalização dos modelos. "
   ]
  },
  {
   "cell_type": "markdown",
   "id": "18955dae",
   "metadata": {},
   "source": [
    "**Passo a passo**\n",
    "- Fazer o sorteio das amostras que serão amostradas;\n",
    "- Formação do dataset que sera usado para o modelo (Árvores de classificação ou regressão, Regressão linear ou logística dentre outros;\n",
    "- Produção de modelos diferenciados (por usar amostras diferentes), construindo estimadores distintos; \n",
    "- Combinação dos resultados por média ou votação para a construção de um modelo mais robusto; "
   ]
  },
  {
   "cell_type": "markdown",
   "id": "e03be6b3",
   "metadata": {},
   "source": [
    "**Código bagging em Python**\n"
   ]
  },
  {
   "cell_type": "code",
   "execution_count": null,
   "id": "f4f7f64d",
   "metadata": {},
   "outputs": [],
   "source": [
    "# Dividir os dados em conjuntos de treinamento e teste\n",
    "X_train, X_test, y_train, y_test = train_test_split(X, y, test_size=XXX, random_state=XXX)\n",
    "\n",
    "# Criar o modelo de base (Random Forest)\n",
    "base_model = RandomForestClassifier(n_estimators=XXX, random_state=XXX)\n",
    "\n",
    "# Criar o modelo Bagging com Random Forest\n",
    "num_estimators = XXX  # Número de estimadores (modelos de base)\n",
    "bagging_model = BaggingClassifier(base_model, n_estimators=num_estimators, random_state=XXX)\n",
    "\n",
    "# Treinar o modelo Bagging com Random Forest\n",
    "bagging_model.fit(X_train, y_train)\n",
    "\n",
    "# Fazer previsões usando o modelo Bagging\n",
    "y_pred = bagging_model.predict(X_test)\n",
    "\n",
    "# Avaliar a precisão do modelo\n",
    "accuracy = accuracy_score(y_test, y_pred)\n",
    "conf_matrix = confusion_matrix(y_test, y_pred)\n",
    "precision = precision_score(y_test, y_pred)\n",
    "recall = recall_score(y_test, y_pred)\n",
    "print(f'Acurácia do modelo: {accuracy:.2f}')\n",
    "print(f'Matriz de Confusão:\\n{conf_matrix}')\n",
    "print(f'Precisão do modelo: {precision:.2f}')\n",
    "print(f'Recall do modelo: {recall:.2f}')"
   ]
  }
 ],
 "metadata": {
  "kernelspec": {
   "display_name": "Python 3 (ipykernel)",
   "language": "python",
   "name": "python3"
  },
  "language_info": {
   "codemirror_mode": {
    "name": "ipython",
    "version": 3
   },
   "file_extension": ".py",
   "mimetype": "text/x-python",
   "name": "python",
   "nbconvert_exporter": "python",
   "pygments_lexer": "ipython3",
   "version": "3.9.12"
  }
 },
 "nbformat": 4,
 "nbformat_minor": 5
}
