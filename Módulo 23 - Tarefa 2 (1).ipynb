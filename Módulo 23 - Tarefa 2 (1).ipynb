{
 "cells": [
  {
   "cell_type": "markdown",
   "id": "f08aabe9",
   "metadata": {},
   "source": [
    "# Módulo 23 - Tarefa 02\n"
   ]
  },
  {
   "cell_type": "markdown",
   "id": "e8cee82b",
   "metadata": {},
   "source": [
    "- Monte um passo a passo para o algoritmo Random Forest\n",
    "- Explique com suas palavras o Random Forest\n",
    "- Qual a diferença entre Bagging e Random Forest?\n",
    "\n"
   ]
  },
  {
   "cell_type": "markdown",
   "id": "0eeaaeac",
   "metadata": {},
   "source": [
    "**Random Forest**\n"
   ]
  },
  {
   "cell_type": "markdown",
   "id": "073d8e73",
   "metadata": {},
   "source": [
    "O Random Forest é uma técnica robusta de aprendizagem em conjunto (Ensemble Learning) utilizada para classificações, regressões e outras tarefas de análise de dados. Assim como o Bagging, seu funcionamento envolve a construção de várias árvores de decisão. No entanto, o Random Forest adota uma abordagem inteligente para evitar o overfitting, um problema comum em árvores de decisão com grande profundidade.\n",
    "\n",
    "Quando uma árvore de decisão tem muita profundidade, ela tende a aprender padrões muito específicos e complexos dos dados de treinamento, tornando-se altamente ajustada a esses dados. Esse ajuste excessivo pode levar a um desempenho insatisfatório quando aplicada a novos dados não vistos anteriormente.\n",
    "\n",
    "Para contornar esse problema, o Random Forest emprega uma estratégia de amostragem aleatória dos dados de treinamento e das variáveis (atributos) em cada árvore. Em vez de treinar uma única árvore na totalidade do conjunto de treinamento, o algoritmo cria várias árvores, cada uma treinada em diferentes subconjuntos dos dados. O que confere ao algoritmo maior robustez quando comparado as outras técnicas para criação de árvores.\n"
   ]
  },
  {
   "cell_type": "markdown",
   "id": "22dc8dfb",
   "metadata": {},
   "source": [
    "**Passo a Passo**"
   ]
  },
  {
   "cell_type": "markdown",
   "id": "80ab8ff8",
   "metadata": {},
   "source": [
    "**Feature Bagging**"
   ]
  },
  {
   "cell_type": "markdown",
   "id": "1ad83657",
   "metadata": {},
   "source": [
    "O algoritmo de treinamento para a Random Forest aplica a técnica geral do Bootstrap Aggregating (Bagging) com uma pequena modificação dividindo também as colunas com as variáveis explicativas do modelo. Dado uma base treinamento **D** com *p* colunas de variáveis explicativas $X_i$ e uma coluna com a variável resposta $Y$ , $m$ novas bases de dados $D_i$ com $\\sqrt[2]{p}$ (arredondado para baixo) colunas de variáveis explicativas para um problema de classificação ou $p/3$ (arredondado para baixo) colunas de variáveis explicativas para um problema de regressão, recomenda-se também um tamanho mínimo de nó de valor 5. As colunas de variáveis explicativas devem ser selecionadas aleatóriamente e as linhas para as novas bases de dados de treino devem ser selecionadas da base de treino original de maneira aleatóriamente e com reposição."
   ]
  },
  {
   "cell_type": "markdown",
   "id": "21bc6a8c",
   "metadata": {},
   "source": [
    "# Modelagem"
   ]
  },
  {
   "cell_type": "markdown",
   "id": "59389393",
   "metadata": {},
   "source": [
    "Depois de criadas as bases de treino $D_i$ aplicamos o método de aprendizado de árvore (Árvore de Decisão) a cada uma das $m$ bases de treino $D_i$"
   ]
  },
  {
   "cell_type": "markdown",
   "id": "b6580926",
   "metadata": {},
   "source": [
    "# Resultado"
   ]
  },
  {
   "cell_type": "markdown",
   "id": "14d344f4",
   "metadata": {},
   "source": [
    "Depois de ajustarmos $m$  modelos utilizando as $m$ amostras obtidas no Feature Bagging, combinamos os resultados por sua média (para modelos de regressão) ou por votação (para modelos de classificação).\n",
    "\n"
   ]
  },
  {
   "cell_type": "markdown",
   "id": "c5ed884c",
   "metadata": {},
   "source": [
    "# Diferença entre Bagging e Random Forest"
   ]
  },
  {
   "cell_type": "markdown",
   "id": "295f62ea",
   "metadata": {},
   "source": [
    "O Bagging é uma técnica mais flexível em relação aos modelos que pode utilizar. Ele é capaz de aplicar qualquer modelo de aprendizagem supervisionada para construir as várias instâncias do modelo base. Isso significa que, além das árvores de decisão, é possível utilizar outros algoritmos como regressão linear, regressão logística, SVM (Support Vector Machines), entre outros.\n",
    "\n",
    "Já o Random Forest é uma abordagem específica de aprendizado em conjunto que se concentra exclusivamente no uso de modelos de Árvore de Decisão. Portanto, todas as árvores utilizadas no Random Forest são do tipo Árvore de Decisão, o que confere uma certa homogeneidade ao ensemble.\n",
    "\n",
    "É importante salientar que as duas técnicas possuem uma diferença importante quanto a separação dos dados durante o treinamento:\n",
    "\n",
    "Bagging: utiliza uma abordagem de amostragem com reposição para criar subconjuntos de treinamento a partir da base de dados inicial. Cada modelo base (pode ser qualquer algoritmo de aprendizado) é treinado em um desses subconjuntos, e suas previsões individuais são combinadas, geralmente por média ou votação, para gerar a previsão final do modelo ensemble.\n",
    "\n",
    "Random Forest: também se baseia no Bagging, mas com uma característica adicional específica para as Árvores de Decisão. Além de realizar amostragem com reposição nas linhas da base de dados, o Random Forest também realiza uma amostragem aleatória nos atributos (colunas). Esse processo é chamado de \"feature bagging\" ou \"bootstrap aggregating of features\". Essa abordagem adiciona ainda mais diversidade ao conjunto de árvores, tornando cada árvore mais independente e reduzindo a correlação entre elas."
   ]
  },
  {
   "cell_type": "code",
   "execution_count": null,
   "id": "be0ee041",
   "metadata": {},
   "outputs": [],
   "source": []
  }
 ],
 "metadata": {
  "kernelspec": {
   "display_name": "Python 3 (ipykernel)",
   "language": "python",
   "name": "python3"
  },
  "language_info": {
   "codemirror_mode": {
    "name": "ipython",
    "version": 3
   },
   "file_extension": ".py",
   "mimetype": "text/x-python",
   "name": "python",
   "nbconvert_exporter": "python",
   "pygments_lexer": "ipython3",
   "version": "3.9.12"
  }
 },
 "nbformat": 4,
 "nbformat_minor": 5
}
